{
 "cells": [
  {
   "cell_type": "markdown",
   "id": "966d84ba",
   "metadata": {},
   "source": [
    "# BINARY SEACRH IN PYTHON [1/2]"
   ]
  },
  {
   "cell_type": "markdown",
   "id": "a41fe75e",
   "metadata": {},
   "source": [
    "dapat menggunakan array, anda dapat menyimpan elemen dalam deretan keranjang berurutan yang disebut dengan array. anda dapat menyimpan rangkaian elemen dalam deretan keranjag beberutan yang disebut dengan array.\n",
    "bucket diberi nomor dimulai dengan 0, bucket pertaama berada pada posisi #0, yang kedua adalag #1 yang ketiga adalah #2 dan seterusnya.\n",
    "fungsi pencarian biner mengambil array dan item yang di urutkan, jika barang sudah masuk, fungsi array mengembalikan posisinya.\n",
    "anda akann melacak arrau mana yang harus anda cari. pada awalnya ini adlah keseluruhan array:"
   ]
  },
  {
   "cell_type": "code",
   "execution_count": null,
   "id": "6355dc3e",
   "metadata": {},
   "outputs": [],
   "source": [
    "low = 0\n",
    "high = len(list)-1"
   ]
  },
  {
   "cell_type": "markdown",
   "id": "e9667633",
   "metadata": {},
   "source": [
    "# mencek elemen tengah"
   ]
  },
  {
   "cell_type": "code",
   "execution_count": null,
   "id": "e4fb8383",
   "metadata": {},
   "outputs": [],
   "source": [
    "mid = (low + high) / 2\n",
    "guess = list[mid]"
   ]
  },
  {
   "cell_type": "markdown",
   "id": "831502a5",
   "metadata": {},
   "source": [
    "mid dibulatkan kebawah oleh phyton secara otomatis jika (low + high) bukan bilangan genap\n",
    "jika tebakannya terlalu rendah, anda memperbaruhi rendahnya:"
   ]
  },
  {
   "cell_type": "code",
   "execution_count": null,
   "id": "864887ec",
   "metadata": {},
   "outputs": [],
   "source": [
    "if guess < item:\n",
    "    low = mid + 1"
   ]
  },
  {
   "cell_type": "markdown",
   "id": "84d70562",
   "metadata": {},
   "source": [
    "jika tebakan terlalu tinggi anda update ke tinggi"
   ]
  },
  {
   "cell_type": "markdown",
   "id": "2986fed7",
   "metadata": {},
   "source": [
    "# Binary search in phyton [2/2]"
   ]
  },
  {
   "cell_type": "markdown",
   "id": "6ccf5676",
   "metadata": {},
   "source": [
    "di bagian book menggunakan phyton 2 sedangkan di class menggunalan phyton 3. dan ada sedikit perbedaan dalan codenya.\n",
    "berikut ini adalah codenya:"
   ]
  },
  {
   "cell_type": "code",
   "execution_count": null,
   "id": "15111590",
   "metadata": {},
   "outputs": [],
   "source": [
    "deg binary_search9list, item:\n",
    "    low = 0\n",
    "    high = len(list)-1\n",
    "    \n",
    "    while low <= high:\n",
    "        mid = (low + high) // 2\n",
    "        guess = list[mid]\n",
    "        if guess == item:\n",
    "            return mid\n",
    "        if guess > item:\n",
    "            high = mid -1\n",
    "        else:\n",
    "            low = mid + 1\n",
    "            return None\n",
    "        \n",
    "    \n",
    "my_list = [1, 3, 5, 7, 9]\n",
    "print(binary-search(my_list, 3)) # => 1"
   ]
  },
  {
   "cell_type": "code",
   "execution_count": null,
   "id": "9217325a",
   "metadata": {},
   "outputs": [],
   "source": [
    "print(binary_search(my_list, -1)) # => None"
   ]
  },
  {
   "cell_type": "markdown",
   "id": "02964086",
   "metadata": {},
   "source": [
    "# Running Time"
   ]
  },
  {
   "cell_type": "markdown",
   "id": "18f86f26",
   "metadata": {},
   "source": [
    "-umumnya kamu ingin memilih algoritma yang paling efesien : apakah kamu mengoptimalkan wakttu atau ruang\n",
    "-kemabli ke pencarian biner. berapa banyak waktu yang kamu hemat dengan menggunakannya?\n",
    "-pendekatan pertama adalah memeriksa setiap nomor, satu per satu. jika ini daftar 100 angka, dibutuhhkan hingga 100 tebakan. kalau daftar 4 miliar angka, dibutuhkan hingga 4 miliar tebakan\n",
    "-jadi  jumlah tebakan maksimal sama dengan besarnya daftar. ini sisebut waktu linear\n",
    "-pencarian biner berbeda. jika daftarnya terdiri dari 100 item, paling banyak dibutuhkan 7 tebakan. jika daftarnya berisi 4 miliar item, paling banyak dibutuhkan 32 tebakan"
   ]
  },
  {
   "cell_type": "markdown",
   "id": "f59fc81b",
   "metadata": {},
   "source": [
    "# waktu algoritma bertama pada tingkat yang berbeda "
   ]
  },
  {
   "cell_type": "markdown",
   "id": "0399a6bd",
   "metadata": {},
   "source": [
    "-namun secara realitis , daftar tersebut akan memiliki lebih dari satu miliar elemen.\n",
    "-bob menjalankan penulusuran biner dengan 1 miliar elemen, dan memerlukan waktu 30ms (log, 1,000,000,000 kira-kira 30)\n",
    "-penelusuran biner sekitar 15 kali lebih cepat dari pada penelusuran sederhana, karena penulusuran memerlukan waktu 100 md dengan 100 elemen, dan penelusuran biner memerlukan waktu 7 md\n",
    "-jadi pencarian sederhana akan memakan 30x15x450ms, bukan? jauh di bawah ambang yaitu 10 detik\n"
   ]
  },
  {
   "cell_type": "markdown",
   "id": "355b0491",
   "metadata": {},
   "source": [
    "# Big  O Notation explained 1/2"
   ]
  },
  {
   "cell_type": "markdown",
   "id": "3421105a",
   "metadata": {},
   "source": [
    "-notasi big o memberi tahu kamu seberapa cepat suatu algoritma. minsalnya.anda memiliki daftar ukuran. \n",
    "-pencarian sederhana perlu memeriksa setiap elemen apakah operasinya akan berjalan waktu dalam otasi D besar adalah O(n)\n",
    "-big O tidak memberi tahu anda kecepatan dalam hitungan detik"
   ]
  },
  {
   "cell_type": "markdown",
   "id": "88db851b",
   "metadata": {},
   "source": [
    "# Big O natation explained 2/2"
   ]
  },
  {
   "cell_type": "markdown",
   "id": "e8c562f1",
   "metadata": {},
   "source": [
    "-binary search memerlukan operasi log n untuk memeriksa daftar ukuran 1. beberapa wakktu berjalaln dalan notasi Big o? ini O(log n)\n",
    "-ini juga memberi tahu kalian jumlah operasi yang akan dilakukan suatu algoritma. ini disebut notasi Big O karena anda meletakan \"Big O\"di depan jumllah operasi (kedengannya seperti lolucon, tp itu benar)"
   ]
  },
  {
   "cell_type": "markdown",
   "id": "7381b599",
   "metadata": {},
   "source": [
    "# Algorithm 1"
   ]
  },
  {
   "cell_type": "markdown",
   "id": "f58417d5",
   "metadata": {},
   "source": [
    "-salah satu cara melakukannya adalah dengan menggambar 16 kotak, satu persatu\n",
    "-mengingat, notasi big O menghitung jumpah operasi\n",
    "-dalam contoh ini, menggambarkan satu kotak adalah satu operasi. anda harus menggambar 16 kotak.\n",
    "-berapa banyak operasi yang diperlukan intuk menggambar satu kotak dalam satu waktu\n",
    "-dibutuhkan 16 langkah untuk menggambar 16 kotak beberapa waktu berjalan untuk algoritma ini?"
   ]
  },
  {
   "cell_type": "markdown",
   "id": "5ad9d635",
   "metadata": {},
   "source": [
    "# Some common big O run times"
   ]
  },
  {
   "cell_type": "markdown",
   "id": "9c20b0e9",
   "metadata": {},
   "source": [
    "berkut ini 5 waktu pengoperasian Big O yang sering anda temui, di urutkan dari yanf tercepat hingga paling yang terlambat:\n",
    "1. O(log n), juga dikenal sebagai waktu log. contoh : pencarian biner.\n",
    "2. O(n), juga dikenal sebagai waktu linear. contoh: pencarian sederhana \n",
    "3. O(n* log n) contoh: algoritma pengirutan cepat, seperti quicksort\n",
    "4. HA(n^2) contoh algoritma pengurutan lambat, seperti pengurutan pilihan\n",
    "5. O(n!) contohnya algoritma yangsa ngat la,bat seperti sifat penjualan keliling"
   ]
  },
  {
   "cell_type": "markdown",
   "id": "2cd96045",
   "metadata": {},
   "source": [
    "# some common big O run time"
   ]
  },
  {
   "cell_type": "markdown",
   "id": "b84c3ae6",
   "metadata": {},
   "source": [
    "-minsalkan kamu menggambar kotak yang terdiri dari 16 kotak lagi, dan kamu dapat memilih dari 5 algooritma berbeda untuk melakukannya\n",
    "-kamu dapat melakukan 10 operasi per detik\n",
    "-jika kmu menggunakan algoritma pertama, kamu memerlukan waktu O(log n)untk menggambar grid\n",
    "-dengan waktu O(log n) anda memerlukan waktu operaso 4, untuk menggambarkab kotak yang adalah 4. jadim memerlukan waktu 0,4 detik untuk menggambar kisi-kisinya\n",
    "-bagaimana jika kamu harus menggambar 1.024 kotak? kamu memerlukan operasi, atau 1 detik untuk meggambar kotak yang terdiri dari 1,024 kotak\n",
    "-angka-angka ini menggunakan algoritma pertama"
   ]
  },
  {
   "cell_type": "markdown",
   "id": "104c3d4d",
   "metadata": {},
   "source": [
    "# Big O Notation recap"
   ]
  },
  {
   "cell_type": "markdown",
   "id": "85d542bd",
   "metadata": {},
   "source": [
    "jadi kesimpulannya adalah\n",
    "-kecepatan algoritma tidak di ukur dalam hitungan detik, namun dalampertumbuhan jumlah operasi\n",
    "-sebaliknya, kita berbicara tentang seberapa cepat waktu berjalan suatu algoritma meningkatkan seiring dengan meningkatnya ukuran input\n",
    "-waktu berjalannya algoritma dinyatalan dalam notasi Big O\n",
    "-O(log n) lebih cepat dari pada O(n), tetapi akan jauh lebih cepat seiring bertambahnya daftar item yang anda cari."
   ]
  }
 ],
 "metadata": {
  "kernelspec": {
   "display_name": "Python 3 (ipykernel)",
   "language": "python",
   "name": "python3"
  },
  "language_info": {
   "codemirror_mode": {
    "name": "ipython",
    "version": 3
   },
   "file_extension": ".py",
   "mimetype": "text/x-python",
   "name": "python",
   "nbconvert_exporter": "python",
   "pygments_lexer": "ipython3",
   "version": "3.11.4"
  }
 },
 "nbformat": 4,
 "nbformat_minor": 5
}
